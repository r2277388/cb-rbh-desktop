{
 "cells": [
  {
   "cell_type": "code",
   "execution_count": 1,
   "id": "concerned-spine",
   "metadata": {},
   "outputs": [],
   "source": [
    "# Import appropriate libraries\n",
    "\n",
    "import pyodbc\n",
    "import os.path\n",
    "import glob\n",
    "import pandas as pd\n",
    "import numpy as np\n",
    "from datetime import date\n",
    "from datetime import datetime as dt\n",
    "from dateutil.relativedelta import relativedelta\n",
    "\n",
    "import warnings\n",
    "warnings.simplefilter(\"ignore\")\n",
    "\n",
    "pd.set_option('display.max_columns', None)"
   ]
  },
  {
   "cell_type": "code",
   "execution_count": 2,
   "id": "western-bailey",
   "metadata": {},
   "outputs": [],
   "source": [
    "# SQL python connection to our server\n",
    "conn = pyodbc.connect('Driver={SQL Server};'\n",
    "                      'Server=sql-2-db;'\n",
    "                      'Database=CBQ2;')\n",
    "                    \n",
    "cursor = conn.cursor()"
   ]
  },
  {
   "cell_type": "code",
   "execution_count": 3,
   "id": "great-discount",
   "metadata": {},
   "outputs": [],
   "source": [
    "query_item = '''\n",
    "SELECT\n",
    "    i.ISBN\n",
    "    ,i.SHORT_TITLE title\n",
    "    ,i.PUBLISHER_CODE publisher\n",
    "    ,case                             \n",
    "        when i.PUBLISHER_CODE = 'Tourbillon' then 'TW'                      \n",
    "        when i.PUBLISHER_CODE = 'Sierra Club' then 'SC'                     \n",
    "        when i.PUBLISHER_CODE IN('Glam Media','Benefit','PQ Blackwell','San Francisco Art Institute','AFO LLC','FareArts','Sager') then 'CD'                 \n",
    "        when i.PUBLISHER_CODE = 'Creative Company' then 'CC'   \n",
    "        when i.PUBLISHER_CODE = 'Do Books' then 'DO'\n",
    "        when i.PUBLISHER_CODE = 'Levine Querido' then 'LQ'\n",
    "        when i.PUBLISHER_CODE = 'AMMO Books' then 'AM'                                           \n",
    "        when i.PUBLISHING_GROUP = 'GAL' then 'GA'                                                      \n",
    "        when i.PUBLISHING_GROUP = 'GAL-CL' then 'CL'                        \n",
    "        when i.PUBLISHING_GROUP = 'MUD' then 'MP'\n",
    "        when i.PUBLISHING_GROUP = 'GAL-BM' then 'BM'             \n",
    "        when i.PUBLISHING_GROUP in('LAU-BIS') then 'LKBS'                          \n",
    "        when i.PUBLISHER_CODE = 'Laurence King' and i.PRODUCT_TYPE = 'FT' then 'LKGI'                      \n",
    "        when i.PUBLISHER_CODE = 'Laurence King' and i.PRODUCT_TYPE <> 'FT' then 'LKBK'         \n",
    "        when i.PUBLISHER_CODE = 'Hardie Grant Publishing' then 'HG'  \n",
    "        when i.PUBLISHING_GROUP in('BAR-ART','BAR-ENT','BAR-LIF') then 'BAR'                  \n",
    "        else i.PUBLISHING_GROUP                 \n",
    "    end pgrp\n",
    "FROM                \n",
    "     ebs.Item i\n",
    "WHERE\n",
    "    i.PRODUCT_TYPE in('BK','FT','DI')\n",
    "    --AND i.AVAILABILITY_STATUS not in('OP','WIT','OPR','NOP','OSI','PC','DIS','CS','POS')\n",
    "    AND i.AVAILABILITY_STATUS is not null\n",
    "\n",
    "'''"
   ]
  },
  {
   "cell_type": "code",
   "execution_count": 4,
   "id": "hollywood-addiction",
   "metadata": {},
   "outputs": [],
   "source": [
    "df_item = pd.read_sql_query(query_item,conn)"
   ]
  },
  {
   "cell_type": "code",
   "execution_count": 5,
   "id": "present-speaker",
   "metadata": {},
   "outputs": [
    {
     "name": "stdout",
     "output_type": "stream",
     "text": [
      "\n",
      "The latest catalog file:\n",
      "G:\\SALES\\Amazon\\RBH\\DOWNLOADED_FILES\\Catalog_Manufacturing_UnitedStates.csv\n",
      "\n",
      "The latest inventory file:\n",
      "G:\\SALES\\Amazon\\RBH\\DOWNLOADED_FILES\\Inventory_Manufacturing_Retail_UnitedStates_Daily_8-10-2024_8-10-2024.csv\n",
      "\n"
     ]
    }
   ],
   "source": [
    "# Location of DOWNLOAD FOLDER\n",
    "folder_path = r'G:\\SALES\\Amazon\\RBH\\DOWNLOADED_FILES'\n",
    "\n",
    "file_glob_catalog = r'\\*Catalog*csv'\n",
    "files = glob.glob(folder_path + file_glob_catalog)\n",
    "file_catalog = max(files, key=os.path.getctime)\n",
    "\n",
    "file_glob_inventory = r'\\*inventory*csv'\n",
    "files = glob.glob(folder_path + file_glob_inventory)\n",
    "file_inventory = max(files, key=os.path.getctime)\n",
    "\n",
    "print()\n",
    "print(f\"The latest catalog file:\\n{file_catalog}\")\n",
    "print()\n",
    "print(f\"The latest inventory file:\\n{file_inventory}\")\n",
    "print()"
   ]
  },
  {
   "cell_type": "markdown",
   "id": "literary-metropolitan",
   "metadata": {},
   "source": [
    "# Read in Catalog File"
   ]
  },
  {
   "cell_type": "code",
   "execution_count": 6,
   "id": "exterior-aircraft",
   "metadata": {},
   "outputs": [
    {
     "data": {
      "text/plain": [
       "(29187, 5)"
      ]
     },
     "execution_count": 6,
     "metadata": {},
     "output_type": "execute_result"
    }
   ],
   "source": [
    "# Define a custom date parsing function\n",
    "date_parser = lambda x: pd.to_datetime(x, format='%Y-%m-%d %H:%M:%S', errors='coerce')\n",
    "\n",
    "cols_cat = ['ASIN','EAN','ISBN-13','Model Number','Release Date']\n",
    "\n",
    "df_catalog = pd.read_csv(file_catalog\n",
    "                        ,skiprows = 1\n",
    "                        ,na_values = '—'\n",
    "                        ,usecols = cols_cat\n",
    "                        ,parse_dates= ['Release Date']\n",
    "#                         ,date_parser=date_parser\n",
    "                        )\n",
    "\n",
    "# Remove duplicate rows based on a specific column\n",
    "df_catalog.drop_duplicates(subset='ASIN', keep='first', inplace=True)\n",
    "\n",
    "df_catalog.shape"
   ]
  },
  {
   "cell_type": "code",
   "execution_count": 7,
   "id": "8777289d",
   "metadata": {
    "scrolled": true
   },
   "outputs": [
    {
     "name": "stdout",
     "output_type": "stream",
     "text": [
      "<class 'pandas.core.frame.DataFrame'>\n",
      "Int64Index: 29187 entries, 0 to 29224\n",
      "Data columns (total 5 columns):\n",
      " #   Column        Non-Null Count  Dtype         \n",
      "---  ------        --------------  -----         \n",
      " 0   ASIN          29187 non-null  object        \n",
      " 1   EAN           29154 non-null  object        \n",
      " 2   ISBN-13       29154 non-null  object        \n",
      " 3   Model Number  6752 non-null   object        \n",
      " 4   Release Date  29187 non-null  datetime64[ns]\n",
      "dtypes: datetime64[ns](1), object(4)\n",
      "memory usage: 1.3+ MB\n"
     ]
    }
   ],
   "source": [
    "df_catalog.info()"
   ]
  },
  {
   "cell_type": "code",
   "execution_count": 8,
   "id": "a07a04e8",
   "metadata": {},
   "outputs": [
    {
     "data": {
      "text/html": [
       "<div>\n",
       "<style scoped>\n",
       "    .dataframe tbody tr th:only-of-type {\n",
       "        vertical-align: middle;\n",
       "    }\n",
       "\n",
       "    .dataframe tbody tr th {\n",
       "        vertical-align: top;\n",
       "    }\n",
       "\n",
       "    .dataframe thead th {\n",
       "        text-align: right;\n",
       "    }\n",
       "</style>\n",
       "<table border=\"1\" class=\"dataframe\">\n",
       "  <thead>\n",
       "    <tr style=\"text-align: right;\">\n",
       "      <th></th>\n",
       "      <th>ASIN</th>\n",
       "      <th>EAN</th>\n",
       "      <th>ISBN-13</th>\n",
       "      <th>Model Number</th>\n",
       "      <th>Release Date</th>\n",
       "    </tr>\n",
       "  </thead>\n",
       "  <tbody>\n",
       "    <tr>\n",
       "      <th>7887</th>\n",
       "      <td>1761213105</td>\n",
       "      <td>9781761213106</td>\n",
       "      <td>9781761213106</td>\n",
       "      <td>NaN</td>\n",
       "      <td>2024-04-02</td>\n",
       "    </tr>\n",
       "  </tbody>\n",
       "</table>\n",
       "</div>"
      ],
      "text/plain": [
       "            ASIN            EAN        ISBN-13 Model Number Release Date\n",
       "7887  1761213105  9781761213106  9781761213106          NaN   2024-04-02"
      ]
     },
     "execution_count": 8,
     "metadata": {},
     "output_type": "execute_result"
    }
   ],
   "source": [
    "df_catalog.loc[df_catalog.ASIN == '1761213105']"
   ]
  },
  {
   "cell_type": "markdown",
   "id": "prepared-fantasy",
   "metadata": {},
   "source": [
    "# Read in Amazon Inventory File"
   ]
  },
  {
   "cell_type": "code",
   "execution_count": 9,
   "id": "conventional-economy",
   "metadata": {},
   "outputs": [
    {
     "data": {
      "text/plain": [
       "(12465, 2)"
      ]
     },
     "execution_count": 9,
     "metadata": {},
     "output_type": "execute_result"
    }
   ],
   "source": [
    "# Inventory file to Dataframe\n",
    "cols_invt = ['ASIN','Unfilled Customer Ordered Units']\n",
    "\n",
    "df_inventory = pd.read_csv(file_inventory\n",
    "                        ,skiprows = 1\n",
    "                        ,na_values = '—'\n",
    "                        ,usecols = cols_invt\n",
    "                        ,infer_datetime_format=False\n",
    "                          )\n",
    "\n",
    "# df_inventory['Unfilled Customer Ordered Units'] = pd.to_numeric(df_inventory['Unfilled Customer Ordered Units']\\\n",
    "#                                                 .str.replace(',', ''), errors='coerce')\n",
    "#                                                 .fillna(0)\n",
    "#                                                 .astype('Int64')\n",
    "\n",
    "df_inventory.shape"
   ]
  },
  {
   "cell_type": "code",
   "execution_count": 10,
   "id": "365afc90",
   "metadata": {},
   "outputs": [
    {
     "name": "stdout",
     "output_type": "stream",
     "text": [
      "<class 'pandas.core.frame.DataFrame'>\n",
      "RangeIndex: 12465 entries, 0 to 12464\n",
      "Data columns (total 2 columns):\n",
      " #   Column                           Non-Null Count  Dtype \n",
      "---  ------                           --------------  ----- \n",
      " 0   ASIN                             12465 non-null  object\n",
      " 1   Unfilled Customer Ordered Units  6230 non-null   object\n",
      "dtypes: object(2)\n",
      "memory usage: 194.9+ KB\n"
     ]
    }
   ],
   "source": [
    "df_inventory.info()"
   ]
  },
  {
   "cell_type": "code",
   "execution_count": 11,
   "id": "624aa55c",
   "metadata": {},
   "outputs": [
    {
     "data": {
      "text/html": [
       "<div>\n",
       "<style scoped>\n",
       "    .dataframe tbody tr th:only-of-type {\n",
       "        vertical-align: middle;\n",
       "    }\n",
       "\n",
       "    .dataframe tbody tr th {\n",
       "        vertical-align: top;\n",
       "    }\n",
       "\n",
       "    .dataframe thead th {\n",
       "        text-align: right;\n",
       "    }\n",
       "</style>\n",
       "<table border=\"1\" class=\"dataframe\">\n",
       "  <thead>\n",
       "    <tr style=\"text-align: right;\">\n",
       "      <th></th>\n",
       "      <th>ASIN</th>\n",
       "      <th>Unfilled Customer Ordered Units</th>\n",
       "    </tr>\n",
       "  </thead>\n",
       "  <tbody>\n",
       "    <tr>\n",
       "      <th>10767</th>\n",
       "      <td>1761213105</td>\n",
       "      <td>NaN</td>\n",
       "    </tr>\n",
       "  </tbody>\n",
       "</table>\n",
       "</div>"
      ],
      "text/plain": [
       "             ASIN Unfilled Customer Ordered Units\n",
       "10767  1761213105                             NaN"
      ]
     },
     "execution_count": 11,
     "metadata": {},
     "output_type": "execute_result"
    }
   ],
   "source": [
    "df_inventory.loc[df_inventory.ASIN == '1761213105']"
   ]
  },
  {
   "cell_type": "code",
   "execution_count": 12,
   "id": "vulnerable-collection",
   "metadata": {},
   "outputs": [
    {
     "data": {
      "text/plain": [
       "12465"
      ]
     },
     "execution_count": 12,
     "metadata": {},
     "output_type": "execute_result"
    }
   ],
   "source": [
    "len(df_inventory.ASIN.unique())"
   ]
  },
  {
   "cell_type": "code",
   "execution_count": 13,
   "id": "38c24dec",
   "metadata": {},
   "outputs": [
    {
     "data": {
      "text/plain": [
       "0         52\n",
       "1         19\n",
       "2         64\n",
       "3        140\n",
       "4        352\n",
       "        ... \n",
       "12460      0\n",
       "12461      1\n",
       "12462      0\n",
       "12463      2\n",
       "12464      3\n",
       "Name: Unfilled Customer Ordered Units, Length: 12465, dtype: object"
      ]
     },
     "execution_count": 13,
     "metadata": {},
     "output_type": "execute_result"
    }
   ],
   "source": [
    "df_inventory['Unfilled Customer Ordered Units']"
   ]
  },
  {
   "cell_type": "code",
   "execution_count": 14,
   "id": "03e4240d",
   "metadata": {},
   "outputs": [
    {
     "name": "stdout",
     "output_type": "stream",
     "text": [
      "<class 'pandas.core.frame.DataFrame'>\n",
      "RangeIndex: 12465 entries, 0 to 12464\n",
      "Data columns (total 2 columns):\n",
      " #   Column                           Non-Null Count  Dtype \n",
      "---  ------                           --------------  ----- \n",
      " 0   ASIN                             12465 non-null  object\n",
      " 1   Unfilled Customer Ordered Units  6230 non-null   object\n",
      "dtypes: object(2)\n",
      "memory usage: 194.9+ KB\n"
     ]
    }
   ],
   "source": [
    "df_inventory.info()"
   ]
  },
  {
   "cell_type": "markdown",
   "id": "7ddb8cb7",
   "metadata": {},
   "source": [
    "### Figuring out Dups!"
   ]
  },
  {
   "cell_type": "code",
   "execution_count": 15,
   "id": "47c4f876",
   "metadata": {},
   "outputs": [
    {
     "data": {
      "text/html": [
       "<div>\n",
       "<style scoped>\n",
       "    .dataframe tbody tr th:only-of-type {\n",
       "        vertical-align: middle;\n",
       "    }\n",
       "\n",
       "    .dataframe tbody tr th {\n",
       "        vertical-align: top;\n",
       "    }\n",
       "\n",
       "    .dataframe thead th {\n",
       "        text-align: right;\n",
       "    }\n",
       "</style>\n",
       "<table border=\"1\" class=\"dataframe\">\n",
       "  <thead>\n",
       "    <tr style=\"text-align: right;\">\n",
       "      <th></th>\n",
       "      <th>ASIN</th>\n",
       "      <th>Unfilled Customer Ordered Units</th>\n",
       "    </tr>\n",
       "  </thead>\n",
       "  <tbody>\n",
       "    <tr>\n",
       "      <th>9622</th>\n",
       "      <td>1797229176</td>\n",
       "      <td>419</td>\n",
       "    </tr>\n",
       "  </tbody>\n",
       "</table>\n",
       "</div>"
      ],
      "text/plain": [
       "            ASIN Unfilled Customer Ordered Units\n",
       "9622  1797229176                             419"
      ]
     },
     "execution_count": 15,
     "metadata": {},
     "output_type": "execute_result"
    }
   ],
   "source": [
    "df_inventory.loc[df_inventory.ASIN == '1797229176']"
   ]
  },
  {
   "cell_type": "code",
   "execution_count": 16,
   "id": "54931a4e",
   "metadata": {},
   "outputs": [
    {
     "data": {
      "text/html": [
       "<div>\n",
       "<style scoped>\n",
       "    .dataframe tbody tr th:only-of-type {\n",
       "        vertical-align: middle;\n",
       "    }\n",
       "\n",
       "    .dataframe tbody tr th {\n",
       "        vertical-align: top;\n",
       "    }\n",
       "\n",
       "    .dataframe thead th {\n",
       "        text-align: right;\n",
       "    }\n",
       "</style>\n",
       "<table border=\"1\" class=\"dataframe\">\n",
       "  <thead>\n",
       "    <tr style=\"text-align: right;\">\n",
       "      <th></th>\n",
       "      <th>ASIN</th>\n",
       "      <th>EAN</th>\n",
       "      <th>ISBN-13</th>\n",
       "      <th>Model Number</th>\n",
       "      <th>Release Date</th>\n",
       "    </tr>\n",
       "  </thead>\n",
       "  <tbody>\n",
       "    <tr>\n",
       "      <th>18047</th>\n",
       "      <td>1797229176</td>\n",
       "      <td>9781797229171</td>\n",
       "      <td>9781797229171</td>\n",
       "      <td>NaN</td>\n",
       "      <td>2024-12-03</td>\n",
       "    </tr>\n",
       "  </tbody>\n",
       "</table>\n",
       "</div>"
      ],
      "text/plain": [
       "             ASIN            EAN        ISBN-13 Model Number Release Date\n",
       "18047  1797229176  9781797229171  9781797229171          NaN   2024-12-03"
      ]
     },
     "execution_count": 16,
     "metadata": {},
     "output_type": "execute_result"
    }
   ],
   "source": [
    "df_catalog.loc[df_catalog.ASIN == '1797229176']"
   ]
  },
  {
   "cell_type": "markdown",
   "id": "comic-compact",
   "metadata": {},
   "source": [
    "# Merging Files"
   ]
  },
  {
   "cell_type": "code",
   "execution_count": 17,
   "id": "administrative-holly",
   "metadata": {},
   "outputs": [
    {
     "data": {
      "text/plain": [
       "(12457, 6)"
      ]
     },
     "execution_count": 17,
     "metadata": {},
     "output_type": "execute_result"
    }
   ],
   "source": [
    "df_nyp = pd.merge(df_inventory,df_catalog,on = 'ASIN')\n",
    "\n",
    "df_nyp.shape"
   ]
  },
  {
   "cell_type": "code",
   "execution_count": 18,
   "id": "4578fd25",
   "metadata": {},
   "outputs": [
    {
     "data": {
      "text/html": [
       "<div>\n",
       "<style scoped>\n",
       "    .dataframe tbody tr th:only-of-type {\n",
       "        vertical-align: middle;\n",
       "    }\n",
       "\n",
       "    .dataframe tbody tr th {\n",
       "        vertical-align: top;\n",
       "    }\n",
       "\n",
       "    .dataframe thead th {\n",
       "        text-align: right;\n",
       "    }\n",
       "</style>\n",
       "<table border=\"1\" class=\"dataframe\">\n",
       "  <thead>\n",
       "    <tr style=\"text-align: right;\">\n",
       "      <th></th>\n",
       "      <th>ASIN</th>\n",
       "      <th>Unfilled Customer Ordered Units</th>\n",
       "      <th>EAN</th>\n",
       "      <th>ISBN-13</th>\n",
       "      <th>Model Number</th>\n",
       "      <th>Release Date</th>\n",
       "    </tr>\n",
       "  </thead>\n",
       "  <tbody>\n",
       "    <tr>\n",
       "      <th>9616</th>\n",
       "      <td>1797229176</td>\n",
       "      <td>419</td>\n",
       "      <td>9781797229171</td>\n",
       "      <td>9781797229171</td>\n",
       "      <td>NaN</td>\n",
       "      <td>2024-12-03</td>\n",
       "    </tr>\n",
       "  </tbody>\n",
       "</table>\n",
       "</div>"
      ],
      "text/plain": [
       "            ASIN Unfilled Customer Ordered Units            EAN  \\\n",
       "9616  1797229176                             419  9781797229171   \n",
       "\n",
       "            ISBN-13 Model Number Release Date  \n",
       "9616  9781797229171          NaN   2024-12-03  "
      ]
     },
     "execution_count": 18,
     "metadata": {},
     "output_type": "execute_result"
    }
   ],
   "source": [
    "df_nyp.loc[df_nyp.ASIN == '1797229176']"
   ]
  },
  {
   "cell_type": "code",
   "execution_count": 19,
   "id": "recreational-patrol",
   "metadata": {},
   "outputs": [
    {
     "name": "stdout",
     "output_type": "stream",
     "text": [
      "(6223, 4)\n"
     ]
    }
   ],
   "source": [
    "# Correct list of ISBN\n",
    "isbn_list = df_item.ISBN.unique()\n",
    "\n",
    "# Create the \"ISBN\" column using NumPy's where function\n",
    "df_nyp['ISBN'] = np.where(df_nyp['EAN'].isin(isbn_list), df_nyp['EAN'],\n",
    "                          np.where(df_nyp['ISBN-13'].isin(isbn_list), df_nyp['ISBN-13'],\n",
    "                                   df_nyp['Model Number']))\n",
    "\n",
    "# Drop the unnecessary columns\n",
    "df_nyp.drop(['EAN', 'ISBN-13', 'Model Number'], axis=1, inplace=True)\n",
    "\n",
    "df_nyp = df_nyp.dropna(subset = ['Unfilled Customer Ordered Units'])\n",
    "\n",
    "df_nyp.dropna(subset=['Unfilled Customer Ordered Units'], inplace=True)\n",
    "\n",
    "# Check the shape of the DataFrame\n",
    "print(df_nyp.shape)"
   ]
  },
  {
   "cell_type": "code",
   "execution_count": 20,
   "id": "21a8720e",
   "metadata": {},
   "outputs": [
    {
     "data": {
      "text/html": [
       "<div>\n",
       "<style scoped>\n",
       "    .dataframe tbody tr th:only-of-type {\n",
       "        vertical-align: middle;\n",
       "    }\n",
       "\n",
       "    .dataframe tbody tr th {\n",
       "        vertical-align: top;\n",
       "    }\n",
       "\n",
       "    .dataframe thead th {\n",
       "        text-align: right;\n",
       "    }\n",
       "</style>\n",
       "<table border=\"1\" class=\"dataframe\">\n",
       "  <thead>\n",
       "    <tr style=\"text-align: right;\">\n",
       "      <th></th>\n",
       "      <th>ISBN</th>\n",
       "      <th>title</th>\n",
       "      <th>publisher</th>\n",
       "      <th>pgrp</th>\n",
       "    </tr>\n",
       "  </thead>\n",
       "  <tbody>\n",
       "    <tr>\n",
       "      <th>0</th>\n",
       "      <td>9781452103327</td>\n",
       "      <td>Stoner Coffee Table Book</td>\n",
       "      <td>Chronicle</td>\n",
       "      <td>ENT</td>\n",
       "    </tr>\n",
       "    <tr>\n",
       "      <th>1</th>\n",
       "      <td>9781452110462</td>\n",
       "      <td>Stoner Coffee Table Book (ebook)</td>\n",
       "      <td>Chronicle</td>\n",
       "      <td>ENT</td>\n",
       "    </tr>\n",
       "    <tr>\n",
       "      <th>2</th>\n",
       "      <td>9780811868693</td>\n",
       "      <td>Stonewall Kitchen: Appetizers hc *OSI*</td>\n",
       "      <td>Chronicle</td>\n",
       "      <td>FWN</td>\n",
       "    </tr>\n",
       "    <tr>\n",
       "      <th>3</th>\n",
       "      <td>9780811868679</td>\n",
       "      <td>Stonewall Kitchen Breakfast hc</td>\n",
       "      <td>Chronicle</td>\n",
       "      <td>FWN</td>\n",
       "    </tr>\n",
       "    <tr>\n",
       "      <th>4</th>\n",
       "      <td>9780811868709</td>\n",
       "      <td>Stonewall Kitchen Grilling *OSI*</td>\n",
       "      <td>Chronicle</td>\n",
       "      <td>FWN</td>\n",
       "    </tr>\n",
       "  </tbody>\n",
       "</table>\n",
       "</div>"
      ],
      "text/plain": [
       "            ISBN                                   title  publisher pgrp\n",
       "0  9781452103327                Stoner Coffee Table Book  Chronicle  ENT\n",
       "1  9781452110462        Stoner Coffee Table Book (ebook)  Chronicle  ENT\n",
       "2  9780811868693  Stonewall Kitchen: Appetizers hc *OSI*  Chronicle  FWN\n",
       "3  9780811868679          Stonewall Kitchen Breakfast hc  Chronicle  FWN\n",
       "4  9780811868709        Stonewall Kitchen Grilling *OSI*  Chronicle  FWN"
      ]
     },
     "execution_count": 20,
     "metadata": {},
     "output_type": "execute_result"
    }
   ],
   "source": [
    "df_item.head()"
   ]
  },
  {
   "cell_type": "code",
   "execution_count": 21,
   "id": "427c4de4",
   "metadata": {},
   "outputs": [
    {
     "data": {
      "text/html": [
       "<div>\n",
       "<style scoped>\n",
       "    .dataframe tbody tr th:only-of-type {\n",
       "        vertical-align: middle;\n",
       "    }\n",
       "\n",
       "    .dataframe tbody tr th {\n",
       "        vertical-align: top;\n",
       "    }\n",
       "\n",
       "    .dataframe thead th {\n",
       "        text-align: right;\n",
       "    }\n",
       "</style>\n",
       "<table border=\"1\" class=\"dataframe\">\n",
       "  <thead>\n",
       "    <tr style=\"text-align: right;\">\n",
       "      <th></th>\n",
       "      <th>ASIN</th>\n",
       "      <th>EAN</th>\n",
       "      <th>ISBN-13</th>\n",
       "      <th>Model Number</th>\n",
       "      <th>Release Date</th>\n",
       "    </tr>\n",
       "  </thead>\n",
       "  <tbody>\n",
       "    <tr>\n",
       "      <th>0</th>\n",
       "      <td>168152645X</td>\n",
       "      <td>9781681526454</td>\n",
       "      <td>9781681526454</td>\n",
       "      <td>NaN</td>\n",
       "      <td>2021-01-05</td>\n",
       "    </tr>\n",
       "    <tr>\n",
       "      <th>1</th>\n",
       "      <td>9063694695</td>\n",
       "      <td>9789063694692</td>\n",
       "      <td>9789063694692</td>\n",
       "      <td>NaN</td>\n",
       "      <td>2018-01-30</td>\n",
       "    </tr>\n",
       "    <tr>\n",
       "      <th>2</th>\n",
       "      <td>1787139980</td>\n",
       "      <td>9781787139985</td>\n",
       "      <td>9781787139985</td>\n",
       "      <td>NaN</td>\n",
       "      <td>2024-03-19</td>\n",
       "    </tr>\n",
       "    <tr>\n",
       "      <th>3</th>\n",
       "      <td>1878271083</td>\n",
       "      <td>9781878271082</td>\n",
       "      <td>9781878271082</td>\n",
       "      <td>NaN</td>\n",
       "      <td>1997-12-01</td>\n",
       "    </tr>\n",
       "    <tr>\n",
       "      <th>4</th>\n",
       "      <td>0811853810</td>\n",
       "      <td>9780811853811</td>\n",
       "      <td>9780811853811</td>\n",
       "      <td>NaN</td>\n",
       "      <td>2006-07-20</td>\n",
       "    </tr>\n",
       "    <tr>\n",
       "      <th>...</th>\n",
       "      <td>...</td>\n",
       "      <td>...</td>\n",
       "      <td>...</td>\n",
       "      <td>...</td>\n",
       "      <td>...</td>\n",
       "    </tr>\n",
       "    <tr>\n",
       "      <th>29220</th>\n",
       "      <td>0735376522</td>\n",
       "      <td>9780735376526</td>\n",
       "      <td>0735376522</td>\n",
       "      <td>9780735376526</td>\n",
       "      <td>2023-01-17</td>\n",
       "    </tr>\n",
       "    <tr>\n",
       "      <th>29221</th>\n",
       "      <td>0735370125</td>\n",
       "      <td>9780735370128</td>\n",
       "      <td>0735370125</td>\n",
       "      <td>9780735370128</td>\n",
       "      <td>2021-11-09</td>\n",
       "    </tr>\n",
       "    <tr>\n",
       "      <th>29222</th>\n",
       "      <td>0735365822</td>\n",
       "      <td>9780735365827</td>\n",
       "      <td>0735365822</td>\n",
       "      <td>9780735365827</td>\n",
       "      <td>2020-06-30</td>\n",
       "    </tr>\n",
       "    <tr>\n",
       "      <th>29223</th>\n",
       "      <td>0735362017</td>\n",
       "      <td>9780735362017</td>\n",
       "      <td>0735362017</td>\n",
       "      <td>9780735362017</td>\n",
       "      <td>2020-08-18</td>\n",
       "    </tr>\n",
       "    <tr>\n",
       "      <th>29224</th>\n",
       "      <td>0735339651</td>\n",
       "      <td>9780735339651</td>\n",
       "      <td>0735339651</td>\n",
       "      <td>9780735339651</td>\n",
       "      <td>2013-09-30</td>\n",
       "    </tr>\n",
       "  </tbody>\n",
       "</table>\n",
       "<p>29187 rows × 5 columns</p>\n",
       "</div>"
      ],
      "text/plain": [
       "             ASIN            EAN        ISBN-13   Model Number Release Date\n",
       "0      168152645X  9781681526454  9781681526454            NaN   2021-01-05\n",
       "1      9063694695  9789063694692  9789063694692            NaN   2018-01-30\n",
       "2      1787139980  9781787139985  9781787139985            NaN   2024-03-19\n",
       "3      1878271083  9781878271082  9781878271082            NaN   1997-12-01\n",
       "4      0811853810  9780811853811  9780811853811            NaN   2006-07-20\n",
       "...           ...            ...            ...            ...          ...\n",
       "29220  0735376522  9780735376526     0735376522  9780735376526   2023-01-17\n",
       "29221  0735370125  9780735370128     0735370125  9780735370128   2021-11-09\n",
       "29222  0735365822  9780735365827     0735365822  9780735365827   2020-06-30\n",
       "29223  0735362017  9780735362017     0735362017  9780735362017   2020-08-18\n",
       "29224  0735339651  9780735339651     0735339651  9780735339651   2013-09-30\n",
       "\n",
       "[29187 rows x 5 columns]"
      ]
     },
     "execution_count": 21,
     "metadata": {},
     "output_type": "execute_result"
    }
   ],
   "source": [
    "df_catalog"
   ]
  },
  {
   "cell_type": "code",
   "execution_count": 22,
   "id": "curious-soundtrack",
   "metadata": {},
   "outputs": [],
   "source": [
    "df_nyp = pd.merge(df_nyp,df_item.loc[:,['ISBN','title','publisher']]\n",
    "                  ,on='ISBN'\n",
    "                 ,how='left')\n",
    "\n",
    "df_nyp = df_nyp.sort_values(by='Unfilled Customer Ordered Units', ascending=False)"
   ]
  },
  {
   "cell_type": "code",
   "execution_count": 23,
   "id": "6376d49d",
   "metadata": {},
   "outputs": [
    {
     "name": "stdout",
     "output_type": "stream",
     "text": [
      "<class 'pandas.core.frame.DataFrame'>\n",
      "Int64Index: 6895 entries, 3999 to 1043\n",
      "Data columns (total 6 columns):\n",
      " #   Column                           Non-Null Count  Dtype         \n",
      "---  ------                           --------------  -----         \n",
      " 0   ASIN                             6895 non-null   object        \n",
      " 1   Unfilled Customer Ordered Units  6895 non-null   object        \n",
      " 2   Release Date                     6895 non-null   datetime64[ns]\n",
      " 3   ISBN                             6167 non-null   object        \n",
      " 4   title                            6848 non-null   object        \n",
      " 5   publisher                        6848 non-null   object        \n",
      "dtypes: datetime64[ns](1), object(5)\n",
      "memory usage: 377.1+ KB\n"
     ]
    }
   ],
   "source": [
    "df_nyp.info()"
   ]
  },
  {
   "cell_type": "code",
   "execution_count": 24,
   "id": "59b4a0b1",
   "metadata": {},
   "outputs": [
    {
     "data": {
      "text/plain": [
       "2024-08-13    310\n",
       "2023-01-17    114\n",
       "2024-09-03     97\n",
       "2023-01-01     71\n",
       "2024-03-05     60\n",
       "             ... \n",
       "2015-07-09      1\n",
       "2018-05-24      1\n",
       "2005-02-17      1\n",
       "2009-10-14      1\n",
       "2018-09-02      1\n",
       "Name: Release Date, Length: 918, dtype: int64"
      ]
     },
     "execution_count": 24,
     "metadata": {},
     "output_type": "execute_result"
    }
   ],
   "source": [
    "df_nyp['Release Date'].value_counts()"
   ]
  },
  {
   "cell_type": "code",
   "execution_count": 25,
   "id": "interim-kentucky",
   "metadata": {},
   "outputs": [],
   "source": [
    "df_nyp = df_nyp[['ASIN','ISBN','title','publisher','Release Date','Unfilled Customer Ordered Units']]\n",
    "\n",
    "df_nyp_sorted = df_nyp.sort_values(by='Unfilled Customer Ordered Units', ascending=False).reset_index(drop=True)"
   ]
  },
  {
   "cell_type": "code",
   "execution_count": 26,
   "id": "recent-render",
   "metadata": {},
   "outputs": [],
   "source": [
    "# Remove titles that are not nyp\n",
    "df_nyp_sorted = df_nyp_sorted[df_nyp_sorted['Release Date'] >= pd.to_datetime(date.today())]\n",
    "\n",
    "# Change the name of \"Unfilled Customer Ordered Units\" to \"nyp\"\n",
    "df_nyp_sorted.rename(columns={'Unfilled Customer Ordered Units': 'Orders'}, inplace=True)"
   ]
  },
  {
   "cell_type": "code",
   "execution_count": 27,
   "id": "1a329ce4",
   "metadata": {},
   "outputs": [],
   "source": [
    "df_nyp_sorted['Orders'] = df_nyp_sorted['Orders'].str.replace(',', '').astype('float32')\n",
    "df_nyp_sorted['Orders'] = df_nyp_sorted['Orders'].astype('float32')"
   ]
  },
  {
   "cell_type": "code",
   "execution_count": 28,
   "id": "cd20183a",
   "metadata": {},
   "outputs": [
    {
     "data": {
      "text/html": [
       "<div>\n",
       "<style scoped>\n",
       "    .dataframe tbody tr th:only-of-type {\n",
       "        vertical-align: middle;\n",
       "    }\n",
       "\n",
       "    .dataframe tbody tr th {\n",
       "        vertical-align: top;\n",
       "    }\n",
       "\n",
       "    .dataframe thead th {\n",
       "        text-align: right;\n",
       "    }\n",
       "</style>\n",
       "<table border=\"1\" class=\"dataframe\">\n",
       "  <thead>\n",
       "    <tr style=\"text-align: right;\">\n",
       "      <th></th>\n",
       "      <th>publisher</th>\n",
       "      <th>Orders</th>\n",
       "    </tr>\n",
       "  </thead>\n",
       "  <tbody>\n",
       "    <tr>\n",
       "      <th>0</th>\n",
       "      <td>Chronicle</td>\n",
       "      <td>8948.0</td>\n",
       "    </tr>\n",
       "    <tr>\n",
       "      <th>1</th>\n",
       "      <td>Hardie Grant Publishing</td>\n",
       "      <td>2378.0</td>\n",
       "    </tr>\n",
       "    <tr>\n",
       "      <th>2</th>\n",
       "      <td>Galison</td>\n",
       "      <td>1123.0</td>\n",
       "    </tr>\n",
       "    <tr>\n",
       "      <th>3</th>\n",
       "      <td>Laurence King</td>\n",
       "      <td>1051.0</td>\n",
       "    </tr>\n",
       "    <tr>\n",
       "      <th>4</th>\n",
       "      <td>Levine Querido</td>\n",
       "      <td>184.0</td>\n",
       "    </tr>\n",
       "    <tr>\n",
       "      <th>5</th>\n",
       "      <td>Paperblanks</td>\n",
       "      <td>128.0</td>\n",
       "    </tr>\n",
       "    <tr>\n",
       "      <th>6</th>\n",
       "      <td>Creative Company</td>\n",
       "      <td>96.0</td>\n",
       "    </tr>\n",
       "    <tr>\n",
       "      <th>7</th>\n",
       "      <td>?</td>\n",
       "      <td>9.0</td>\n",
       "    </tr>\n",
       "    <tr>\n",
       "      <th>8</th>\n",
       "      <td>Princeton</td>\n",
       "      <td>9.0</td>\n",
       "    </tr>\n",
       "    <tr>\n",
       "      <th>9</th>\n",
       "      <td>Tourbillon</td>\n",
       "      <td>0.0</td>\n",
       "    </tr>\n",
       "  </tbody>\n",
       "</table>\n",
       "</div>"
      ],
      "text/plain": [
       "                 publisher  Orders\n",
       "0                Chronicle  8948.0\n",
       "1  Hardie Grant Publishing  2378.0\n",
       "2                  Galison  1123.0\n",
       "3            Laurence King  1051.0\n",
       "4           Levine Querido   184.0\n",
       "5              Paperblanks   128.0\n",
       "6         Creative Company    96.0\n",
       "7                        ?     9.0\n",
       "8                Princeton     9.0\n",
       "9               Tourbillon     0.0"
      ]
     },
     "execution_count": 28,
     "metadata": {},
     "output_type": "execute_result"
    }
   ],
   "source": [
    "df_nyp_sorted.groupby('publisher')['Orders'].sum().sort_values(ascending=False).reset_index()"
   ]
  },
  {
   "cell_type": "code",
   "execution_count": 29,
   "id": "virgin-motel",
   "metadata": {},
   "outputs": [],
   "source": [
    "def convert_to_float(x):\n",
    "    if isinstance(x, str):\n",
    "        return float(x.replace(',', ''))\n",
    "    else:\n",
    "        return x\n",
    "\n",
    "df_nyp_sorted['Orders'] = df_nyp_sorted['Orders'].apply(convert_to_float)\n",
    "\n",
    "\n",
    "# Sort DataFrame by the \"Orders\" column in descending order\n",
    "df_nyp_sorted = df_nyp_sorted.sort_values(by='Orders', ascending=False)"
   ]
  },
  {
   "cell_type": "code",
   "execution_count": 30,
   "id": "invalid-partner",
   "metadata": {},
   "outputs": [],
   "source": [
    "# # Main Folder\n",
    "# folder = r'G:\\SALES\\Amazon\\PREORDERS\\2024\\\\'\n",
    "\n",
    "# # Get the current date\n",
    "# current_date = date.today().strftime('%Y-%m-%d')\n",
    "\n",
    "# # Save DataFrame as an Excel file\n",
    "# file_name = f'preorders_{current_date}.xlsx'\n",
    "\n",
    "# path = folder + file_name\n",
    "\n",
    "# writer = pd.ExcelWriter(path, engine='xlsxwriter')\n",
    "\n",
    "# df_nyp_sorted.to_excel(writer, sheet_name='nyp', index=False)\n",
    "\n",
    "# filter_chronicle = df_nyp_sorted.publisher=='Chronicle'\n",
    "\n",
    "# df_nyp_sorted.loc[filter_chronicle].to_excel(writer, sheet_name='nyp_cb', index=False)\n",
    "# df_nyp_sorted.loc[~filter_chronicle].to_excel(writer, sheet_name='nyp_dp', index=False)\n",
    "\n",
    "# writer.save()\n",
    "# writer.close()"
   ]
  },
  {
   "cell_type": "code",
   "execution_count": 31,
   "id": "4c66cabe",
   "metadata": {},
   "outputs": [],
   "source": [
    "# Main Folder\n",
    "folder = fr'G:\\SALES\\Amazon\\PREORDERS\\2024\\\\'\n",
    "\n",
    "# Get the current date\n",
    "current_date = date.today().strftime('%Y-%m-%d')\n",
    "\n",
    "# File names\n",
    "dated_file_name = f'preorders_{current_date}.xlsx'\n",
    "current_file_name = 'current_amaz_preorders.xlsx'\n",
    "\n",
    "# Paths\n",
    "dated_path = folder + dated_file_name\n",
    "current_path = folder + current_file_name\n",
    "\n",
    "# Create Excel writers\n",
    "dated_writer = pd.ExcelWriter(dated_path, engine='xlsxwriter')\n",
    "current_writer = pd.ExcelWriter(current_path, engine='xlsxwriter')\n",
    "\n",
    "# Save DataFrame to the dated file\n",
    "df_nyp_sorted.to_excel(dated_writer, sheet_name='nyp', index=False)\n",
    "df_nyp_sorted.loc[df_nyp_sorted.publisher == 'Chronicle'].to_excel(dated_writer, sheet_name='nyp_cb', index=False)\n",
    "df_nyp_sorted.loc[df_nyp_sorted.publisher != 'Chronicle'].to_excel(dated_writer, sheet_name='nyp_dp', index=False)\n",
    "\n",
    "# Save DataFrame to the current file\n",
    "df_nyp_sorted.to_excel(current_writer, sheet_name='nyp', index=False)\n",
    "df_nyp_sorted.loc[df_nyp_sorted.publisher == 'Chronicle'].to_excel(current_writer, sheet_name='nyp_cb', index=False)\n",
    "df_nyp_sorted.loc[df_nyp_sorted.publisher != 'Chronicle'].to_excel(current_writer, sheet_name='nyp_dp', index=False)\n",
    "\n",
    "# Save and close the writers\n",
    "dated_writer.save()\n",
    "dated_writer.close()\n",
    "\n",
    "current_writer.save()\n",
    "current_writer.close()"
   ]
  }
 ],
 "metadata": {
  "kernelspec": {
   "display_name": "Python 3",
   "language": "python",
   "name": "python3"
  },
  "language_info": {
   "codemirror_mode": {
    "name": "ipython",
    "version": 3
   },
   "file_extension": ".py",
   "mimetype": "text/x-python",
   "name": "python",
   "nbconvert_exporter": "python",
   "pygments_lexer": "ipython3",
   "version": "3.7.16"
  }
 },
 "nbformat": 4,
 "nbformat_minor": 5
}
